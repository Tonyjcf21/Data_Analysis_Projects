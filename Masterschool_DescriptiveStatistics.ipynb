{
 "cells": [
  {
   "cell_type": "code",
   "execution_count": 1,
   "metadata": {},
   "outputs": [],
   "source": [
    "import pandas as pd\n",
    "import numpy as np\n",
    "import random\n",
    "import time"
   ]
  },
  {
   "cell_type": "code",
   "execution_count": 2,
   "metadata": {},
   "outputs": [],
   "source": [
    "days = \"Sunday, Monday, Tuesday, Wednesday, Thursday, Friday, Saturday\".split(\", \")\n",
    "\n",
    "N = 10000\n",
    "\n",
    "numbers_uniform = [int(x) for x in np.random.uniform(low=10, high=900, size=N)]\n",
    "numbers_normal = [int(x) for x in np.random.normal(loc=150, scale=25, size=N)]\n",
    "numbers_chi = [int(x)*13 if x>5 else int(x) for x in np.random.chisquare(df=10, size=N)]\n",
    "negative_numbers_chi = [max(numbers_chi) -x for x in numbers_chi]\n",
    "numbers_binom = [int(x) for x in np.random.binomial(n=50, p=0.3, size=N)]\n",
    "weird_dist = [np.arctan(x)*x**5 for x in range(0,N)]\n",
    "numbers = numbers_uniform\n",
    "df = pd.DataFrame([random.choices(days,k=N), random.choices(numbers, k=N)], index=[\"days\", \"sessions\"]).T"
   ]
  },
  {
   "cell_type": "code",
   "execution_count": 3,
   "metadata": {},
   "outputs": [],
   "source": [
    "df['days'] = pd.Categorical(df['days'], categories=days)"
   ]
  },
  {
   "cell_type": "code",
   "execution_count": 4,
   "metadata": {},
   "outputs": [
    {
     "data": {
      "text/plain": [
       "<AxesSubplot:>"
      ]
     },
     "execution_count": 4,
     "metadata": {},
     "output_type": "execute_result"
    },
    {
     "data": {
      "image/png": "[encoded data removed]",
      "text/plain": [
       "<Figure size 432x288 with 1 Axes>"
      ]
     },
     "metadata": {
      "needs_background": "light"
     },
     "output_type": "display_data"
    }
   ],
   "source": [
    "df.sort_values('days',inplace=True)\n",
    "df['days'].cat.codes\n",
    "#df['sessions'].plot(kind='bar')"
   ]
  },
  {
   "cell_type": "code",
   "execution_count": 32,
   "metadata": {},
   "outputs": [],
   "source": [
    "sample = [1,2,3,4,5,6,7,8,9,10,100]\n",
    "sample = [.1,1,2.3,3.1,3.5,4.2,5.1,6,7.3,201.5,211.2]\n",
    "sample = [1, 2, 3, 5, 8, 9, 12, 300, 420, 8, 4, 2, 9]"
   ]
  },
  {
   "cell_type": "code",
   "execution_count": 22,
   "metadata": {},
   "outputs": [
    {
     "data": {
      "text/plain": [
       "(14.090909090909092, 27.304526915561905)"
      ]
     },
     "execution_count": 22,
     "metadata": {},
     "output_type": "execute_result"
    }
   ],
   "source": [
    "def mean_and_std(sample):\n",
    "    #create variables for mean and std from a sample\n",
    "    sample = np.array(sample)\n",
    "    sample_mean = sample.mean()\n",
    "    sample_std = sample.std() #from documentation I saw that this is over the population. That is, 1/N.\n",
    "    \n",
    "    return sample_mean, sample_std\n",
    "mean_and_std(sample)"
   ]
  },
  {
   "cell_type": "code",
   "execution_count": null,
   "metadata": {},
   "outputs": [],
   "source": [
    "'''\n",
    "while true:\n",
    "    std, mean = take the std and the mean from the other function.\n",
    "    if x is an outlier (x> ..... or x< .....): \n",
    "       remove x.\n",
    "    calculate again the std, mean and put them into new variables.\n",
    "    if they are equal to the old std, mean: \n",
    "         break the loop and return the mean. \n",
    "'''"
   ]
  },
  {
   "cell_type": "code",
   "execution_count": 37,
   "metadata": {},
   "outputs": [],
   "source": [
    "#DETECT OUTLIERS\n",
    "def validation(sample, cutoff):\n",
    "    #get mean and std from the previous function and return the new mean\n",
    "    #with precision of 2 decimal points\n",
    "    first_results = mean_and_std(sample)\n",
    "    mean_before, std_before = first_results[0], first_results[1]\n",
    "\n",
    "    while True:\n",
    "        for number in sample:\n",
    "            if number > mean_before+cutoff*std_before or number < mean_before-cutoff*std_before:\n",
    "                sample.remove(number)\n",
    "\n",
    "        sample = np.array(sample)\n",
    "        mean_after = sample.mean()\n",
    "        std_after = sample.std()\n",
    "        new_mean = round(sample.mean(),2)\n",
    "        if mean_after == mean_before and std_after == std_before:\n",
    "            break\n",
    "        else:\n",
    "            mean_before = mean_after\n",
    "            std_before = std_after\n",
    "            sample = sample.tolist()\n",
    "    print(sample)\n",
    "    return new_mean"
   ]
  },
  {
   "cell_type": "code",
   "execution_count": 36,
   "metadata": {},
   "outputs": [
    {
     "name": "stdout",
     "output_type": "stream",
     "text": [
      "[ 1  2  3  5  8  9 12  8  4  2  9]\n"
     ]
    },
    {
     "data": {
      "text/plain": [
       "5.73"
      ]
     },
     "execution_count": 36,
     "metadata": {},
     "output_type": "execute_result"
    }
   ],
   "source": [
    "mean_and_std(sample)\n",
    "validation(sample,2)"
   ]
  },
  {
   "cell_type": "code",
   "execution_count": 13,
   "metadata": {},
   "outputs": [
    {
     "name": "stdout",
     "output_type": "stream",
     "text": [
      "[[0. 0.]\n",
      " [0. 1.]\n",
      " [1. 0.]\n",
      " [1. 1.]\n",
      " [2. 0.]\n",
      " [2. 1.]\n",
      " [3. 0.]\n",
      " [3. 1.]\n",
      " [4. 0.]\n",
      " [4. 1.]]\n"
     ]
    }
   ],
   "source": []
  },
  {
   "cell_type": "code",
   "execution_count": null,
   "metadata": {},
   "outputs": [],
   "source": []
  }
 ],
 "metadata": {
  "kernelspec": {
   "display_name": "Python 3.8.10 ('jupyterenv')",
   "language": "python",
   "name": "python3"
  },
  "language_info": {
   "codemirror_mode": {
    "name": "ipython",
    "version": 3
   },
   "file_extension": ".py",
   "mimetype": "text/x-python",
   "name": "python",
   "nbconvert_exporter": "python",
   "pygments_lexer": "ipython3",
   "version": "3.8.10"
  },
  "orig_nbformat": 4,
  "vscode": {
   "interpreter": {
    "hash": "85771b9a65edf9c509b3c3379697f54e86eb86d236754aafd35b04a8797116d2"
   }
  }
 },
 "nbformat": 4,
 "nbformat_minor": 2
}
