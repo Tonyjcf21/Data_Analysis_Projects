{
 "cells": [
  {
   "cell_type": "code",
   "execution_count": 1,
   "id": "8bebb38b",
   "metadata": {},
   "outputs": [],
   "source": [
    "import pandas as pd\n",
    "import numpy as np\n",
    "import matplotlib.pyplot as plt\n",
    "import random"
   ]
  },
  {
   "cell_type": "code",
   "execution_count": 2,
   "id": "80a810dc",
   "metadata": {},
   "outputs": [],
   "source": [
    "df = pd.read_csv('student_data.csv')"
   ]
  },
  {
   "cell_type": "code",
   "execution_count": 5,
   "id": "116cab52",
   "metadata": {},
   "outputs": [],
   "source": [
    "df = pd.read_csv('student_data.csv', usecols=['sex', 'age'])"
   ]
  },
  {
   "cell_type": "code",
   "execution_count": 13,
   "id": "bb03c96a",
   "metadata": {},
   "outputs": [],
   "source": [
    "string_of_months = \"January, February, March, April, May, June, July, August, September, October, November, December\"\n",
    "list_of_months = string_of_months.split(\", \")\n",
    "special_months = list_of_months[:-2]"
   ]
  },
  {
   "cell_type": "code",
   "execution_count": 33,
   "id": "4029f1c1",
   "metadata": {},
   "outputs": [],
   "source": [
    "df['month_of_birth'] = random.choices(list_of_months, k=len(df))\n",
    "df['special_month_of_birth'] = random.choices(special_months, k=len(df))"
   ]
  },
  {
   "cell_type": "code",
   "execution_count": 35,
   "id": "fccf5088",
   "metadata": {},
   "outputs": [
    {
     "data": {
      "text/html": [
       "<div>\n",
       "<style scoped>\n",
       "    .dataframe tbody tr th:only-of-type {\n",
       "        vertical-align: middle;\n",
       "    }\n",
       "\n",
       "    .dataframe tbody tr th {\n",
       "        vertical-align: top;\n",
       "    }\n",
       "\n",
       "    .dataframe thead th {\n",
       "        text-align: right;\n",
       "    }\n",
       "</style>\n",
       "<table border=\"1\" class=\"dataframe\">\n",
       "  <thead>\n",
       "    <tr style=\"text-align: right;\">\n",
       "      <th></th>\n",
       "      <th>sex</th>\n",
       "      <th>age</th>\n",
       "      <th>month_of_birth</th>\n",
       "      <th>special_month_of_birth</th>\n",
       "    </tr>\n",
       "  </thead>\n",
       "  <tbody>\n",
       "    <tr>\n",
       "      <th>0</th>\n",
       "      <td>F</td>\n",
       "      <td>18</td>\n",
       "      <td>May</td>\n",
       "      <td>March</td>\n",
       "    </tr>\n",
       "    <tr>\n",
       "      <th>1</th>\n",
       "      <td>F</td>\n",
       "      <td>17</td>\n",
       "      <td>May</td>\n",
       "      <td>April</td>\n",
       "    </tr>\n",
       "    <tr>\n",
       "      <th>2</th>\n",
       "      <td>F</td>\n",
       "      <td>15</td>\n",
       "      <td>May</td>\n",
       "      <td>August</td>\n",
       "    </tr>\n",
       "    <tr>\n",
       "      <th>3</th>\n",
       "      <td>F</td>\n",
       "      <td>15</td>\n",
       "      <td>June</td>\n",
       "      <td>February</td>\n",
       "    </tr>\n",
       "    <tr>\n",
       "      <th>4</th>\n",
       "      <td>F</td>\n",
       "      <td>16</td>\n",
       "      <td>August</td>\n",
       "      <td>April</td>\n",
       "    </tr>\n",
       "  </tbody>\n",
       "</table>\n",
       "</div>"
      ],
      "text/plain": [
       "  sex  age month_of_birth special_month_of_birth\n",
       "0   F   18            May                  March\n",
       "1   F   17            May                  April\n",
       "2   F   15            May                 August\n",
       "3   F   15           June               February\n",
       "4   F   16         August                  April"
      ]
     },
     "execution_count": 35,
     "metadata": {},
     "output_type": "execute_result"
    }
   ],
   "source": [
    "df.head()"
   ]
  },
  {
   "cell_type": "code",
   "execution_count": 52,
   "id": "67e47a63",
   "metadata": {},
   "outputs": [],
   "source": [
    "df['normal'] = np.random.normal(loc = 250, scale= 36, size=len(df))"
   ]
  },
  {
   "cell_type": "code",
   "execution_count": 67,
   "id": "99f0a573",
   "metadata": {},
   "outputs": [],
   "source": [
    "#I want to create a weird distribution\n",
    "\n",
    "df['weird_dist'] = [np.log(x+1) if x< 350 else x for x in df.index]"
   ]
  },
  {
   "cell_type": "code",
   "execution_count": 63,
   "id": "7e4e487e",
   "metadata": {},
   "outputs": [],
   "source": [
    "# # [np.log(x+1) if x< 350 else x for x in df.index]\n",
    "\n",
    "# holder = []\n",
    "\n",
    "# for x in df.index:\n",
    "#     if x<350:\n",
    "#         holder.append(np.log(x+1))\n",
    "#     else:\n",
    "#         holder.append(x)\n",
    "\n",
    "# df['weird_dist'] = holder"
   ]
  },
  {
   "cell_type": "markdown",
   "id": "0e3461ed",
   "metadata": {},
   "source": [
    "## Describe"
   ]
  },
  {
   "cell_type": "code",
   "execution_count": 71,
   "id": "57c97933",
   "metadata": {},
   "outputs": [
    {
     "data": {
      "text/html": [
       "<div>\n",
       "<style scoped>\n",
       "    .dataframe tbody tr th:only-of-type {\n",
       "        vertical-align: middle;\n",
       "    }\n",
       "\n",
       "    .dataframe tbody tr th {\n",
       "        vertical-align: top;\n",
       "    }\n",
       "\n",
       "    .dataframe thead th {\n",
       "        text-align: right;\n",
       "    }\n",
       "</style>\n",
       "<table border=\"1\" class=\"dataframe\">\n",
       "  <thead>\n",
       "    <tr style=\"text-align: right;\">\n",
       "      <th></th>\n",
       "      <th>sex</th>\n",
       "      <th>age</th>\n",
       "      <th>month_of_birth</th>\n",
       "      <th>special_month_of_birth</th>\n",
       "      <th>normal</th>\n",
       "      <th>weird_dist</th>\n",
       "    </tr>\n",
       "  </thead>\n",
       "  <tbody>\n",
       "    <tr>\n",
       "      <th>count</th>\n",
       "      <td>395</td>\n",
       "      <td>395.000000</td>\n",
       "      <td>395</td>\n",
       "      <td>395</td>\n",
       "      <td>395.000000</td>\n",
       "      <td>395.000000</td>\n",
       "    </tr>\n",
       "    <tr>\n",
       "      <th>unique</th>\n",
       "      <td>2</td>\n",
       "      <td>NaN</td>\n",
       "      <td>12</td>\n",
       "      <td>10</td>\n",
       "      <td>NaN</td>\n",
       "      <td>NaN</td>\n",
       "    </tr>\n",
       "    <tr>\n",
       "      <th>top</th>\n",
       "      <td>F</td>\n",
       "      <td>NaN</td>\n",
       "      <td>May</td>\n",
       "      <td>July</td>\n",
       "      <td>NaN</td>\n",
       "      <td>NaN</td>\n",
       "    </tr>\n",
       "    <tr>\n",
       "      <th>freq</th>\n",
       "      <td>208</td>\n",
       "      <td>NaN</td>\n",
       "      <td>40</td>\n",
       "      <td>52</td>\n",
       "      <td>NaN</td>\n",
       "      <td>NaN</td>\n",
       "    </tr>\n",
       "    <tr>\n",
       "      <th>mean</th>\n",
       "      <td>NaN</td>\n",
       "      <td>16.696203</td>\n",
       "      <td>NaN</td>\n",
       "      <td>NaN</td>\n",
       "      <td>250.664730</td>\n",
       "      <td>46.693987</td>\n",
       "    </tr>\n",
       "    <tr>\n",
       "      <th>std</th>\n",
       "      <td>NaN</td>\n",
       "      <td>1.276043</td>\n",
       "      <td>NaN</td>\n",
       "      <td>NaN</td>\n",
       "      <td>38.558842</td>\n",
       "      <td>116.878449</td>\n",
       "    </tr>\n",
       "    <tr>\n",
       "      <th>min</th>\n",
       "      <td>NaN</td>\n",
       "      <td>15.000000</td>\n",
       "      <td>NaN</td>\n",
       "      <td>NaN</td>\n",
       "      <td>122.646818</td>\n",
       "      <td>0.000000</td>\n",
       "    </tr>\n",
       "    <tr>\n",
       "      <th>25%</th>\n",
       "      <td>NaN</td>\n",
       "      <td>16.000000</td>\n",
       "      <td>NaN</td>\n",
       "      <td>NaN</td>\n",
       "      <td>225.268070</td>\n",
       "      <td>4.600145</td>\n",
       "    </tr>\n",
       "    <tr>\n",
       "      <th>50%</th>\n",
       "      <td>NaN</td>\n",
       "      <td>17.000000</td>\n",
       "      <td>NaN</td>\n",
       "      <td>NaN</td>\n",
       "      <td>250.647926</td>\n",
       "      <td>5.288267</td>\n",
       "    </tr>\n",
       "    <tr>\n",
       "      <th>75%</th>\n",
       "      <td>NaN</td>\n",
       "      <td>18.000000</td>\n",
       "      <td>NaN</td>\n",
       "      <td>NaN</td>\n",
       "      <td>276.147340</td>\n",
       "      <td>5.692046</td>\n",
       "    </tr>\n",
       "    <tr>\n",
       "      <th>max</th>\n",
       "      <td>NaN</td>\n",
       "      <td>22.000000</td>\n",
       "      <td>NaN</td>\n",
       "      <td>NaN</td>\n",
       "      <td>340.819255</td>\n",
       "      <td>394.000000</td>\n",
       "    </tr>\n",
       "  </tbody>\n",
       "</table>\n",
       "</div>"
      ],
      "text/plain": [
       "        sex         age month_of_birth special_month_of_birth      normal  \\\n",
       "count   395  395.000000            395                    395  395.000000   \n",
       "unique    2         NaN             12                     10         NaN   \n",
       "top       F         NaN            May                   July         NaN   \n",
       "freq    208         NaN             40                     52         NaN   \n",
       "mean    NaN   16.696203            NaN                    NaN  250.664730   \n",
       "std     NaN    1.276043            NaN                    NaN   38.558842   \n",
       "min     NaN   15.000000            NaN                    NaN  122.646818   \n",
       "25%     NaN   16.000000            NaN                    NaN  225.268070   \n",
       "50%     NaN   17.000000            NaN                    NaN  250.647926   \n",
       "75%     NaN   18.000000            NaN                    NaN  276.147340   \n",
       "max     NaN   22.000000            NaN                    NaN  340.819255   \n",
       "\n",
       "        weird_dist  \n",
       "count   395.000000  \n",
       "unique         NaN  \n",
       "top            NaN  \n",
       "freq           NaN  \n",
       "mean     46.693987  \n",
       "std     116.878449  \n",
       "min       0.000000  \n",
       "25%       4.600145  \n",
       "50%       5.288267  \n",
       "75%       5.692046  \n",
       "max     394.000000  "
      ]
     },
     "execution_count": 71,
     "metadata": {},
     "output_type": "execute_result"
    }
   ],
   "source": [
    "df.describe(include='all')"
   ]
  },
  {
   "cell_type": "code",
   "execution_count": 75,
   "id": "3747aae0",
   "metadata": {},
   "outputs": [
    {
     "data": {
      "text/html": [
       "<div>\n",
       "<style scoped>\n",
       "    .dataframe tbody tr th:only-of-type {\n",
       "        vertical-align: middle;\n",
       "    }\n",
       "\n",
       "    .dataframe tbody tr th {\n",
       "        vertical-align: top;\n",
       "    }\n",
       "\n",
       "    .dataframe thead th {\n",
       "        text-align: right;\n",
       "    }\n",
       "</style>\n",
       "<table border=\"1\" class=\"dataframe\">\n",
       "  <thead>\n",
       "    <tr style=\"text-align: right;\">\n",
       "      <th></th>\n",
       "      <th>sex</th>\n",
       "      <th>age</th>\n",
       "      <th>month_of_birth</th>\n",
       "      <th>special_month_of_birth</th>\n",
       "      <th>normal</th>\n",
       "      <th>weird_dist</th>\n",
       "    </tr>\n",
       "  </thead>\n",
       "  <tbody>\n",
       "    <tr>\n",
       "      <th>count</th>\n",
       "      <td>395</td>\n",
       "      <td>395.000000</td>\n",
       "      <td>395</td>\n",
       "      <td>395</td>\n",
       "      <td>395.000000</td>\n",
       "      <td>395.000000</td>\n",
       "    </tr>\n",
       "    <tr>\n",
       "      <th>unique</th>\n",
       "      <td>2</td>\n",
       "      <td>NaN</td>\n",
       "      <td>12</td>\n",
       "      <td>10</td>\n",
       "      <td>NaN</td>\n",
       "      <td>NaN</td>\n",
       "    </tr>\n",
       "    <tr>\n",
       "      <th>top</th>\n",
       "      <td>F</td>\n",
       "      <td>NaN</td>\n",
       "      <td>May</td>\n",
       "      <td>July</td>\n",
       "      <td>NaN</td>\n",
       "      <td>NaN</td>\n",
       "    </tr>\n",
       "    <tr>\n",
       "      <th>freq</th>\n",
       "      <td>208</td>\n",
       "      <td>NaN</td>\n",
       "      <td>40</td>\n",
       "      <td>52</td>\n",
       "      <td>NaN</td>\n",
       "      <td>NaN</td>\n",
       "    </tr>\n",
       "    <tr>\n",
       "      <th>mean</th>\n",
       "      <td>NaN</td>\n",
       "      <td>16.696203</td>\n",
       "      <td>NaN</td>\n",
       "      <td>NaN</td>\n",
       "      <td>250.664730</td>\n",
       "      <td>46.693987</td>\n",
       "    </tr>\n",
       "    <tr>\n",
       "      <th>std</th>\n",
       "      <td>NaN</td>\n",
       "      <td>1.276043</td>\n",
       "      <td>NaN</td>\n",
       "      <td>NaN</td>\n",
       "      <td>38.558842</td>\n",
       "      <td>116.878449</td>\n",
       "    </tr>\n",
       "    <tr>\n",
       "      <th>min</th>\n",
       "      <td>NaN</td>\n",
       "      <td>15.000000</td>\n",
       "      <td>NaN</td>\n",
       "      <td>NaN</td>\n",
       "      <td>122.646818</td>\n",
       "      <td>0.000000</td>\n",
       "    </tr>\n",
       "    <tr>\n",
       "      <th>20%</th>\n",
       "      <td>NaN</td>\n",
       "      <td>15.000000</td>\n",
       "      <td>NaN</td>\n",
       "      <td>NaN</td>\n",
       "      <td>220.892664</td>\n",
       "      <td>4.379511</td>\n",
       "    </tr>\n",
       "    <tr>\n",
       "      <th>40%</th>\n",
       "      <td>NaN</td>\n",
       "      <td>16.000000</td>\n",
       "      <td>NaN</td>\n",
       "      <td>NaN</td>\n",
       "      <td>241.689434</td>\n",
       "      <td>5.066381</td>\n",
       "    </tr>\n",
       "    <tr>\n",
       "      <th>50%</th>\n",
       "      <td>NaN</td>\n",
       "      <td>17.000000</td>\n",
       "      <td>NaN</td>\n",
       "      <td>NaN</td>\n",
       "      <td>250.647926</td>\n",
       "      <td>5.288267</td>\n",
       "    </tr>\n",
       "    <tr>\n",
       "      <th>60%</th>\n",
       "      <td>NaN</td>\n",
       "      <td>17.000000</td>\n",
       "      <td>NaN</td>\n",
       "      <td>NaN</td>\n",
       "      <td>261.033590</td>\n",
       "      <td>5.469744</td>\n",
       "    </tr>\n",
       "    <tr>\n",
       "      <th>75%</th>\n",
       "      <td>NaN</td>\n",
       "      <td>18.000000</td>\n",
       "      <td>NaN</td>\n",
       "      <td>NaN</td>\n",
       "      <td>276.147340</td>\n",
       "      <td>5.692046</td>\n",
       "    </tr>\n",
       "    <tr>\n",
       "      <th>80%</th>\n",
       "      <td>NaN</td>\n",
       "      <td>18.000000</td>\n",
       "      <td>NaN</td>\n",
       "      <td>NaN</td>\n",
       "      <td>284.311464</td>\n",
       "      <td>5.756374</td>\n",
       "    </tr>\n",
       "    <tr>\n",
       "      <th>max</th>\n",
       "      <td>NaN</td>\n",
       "      <td>22.000000</td>\n",
       "      <td>NaN</td>\n",
       "      <td>NaN</td>\n",
       "      <td>340.819255</td>\n",
       "      <td>394.000000</td>\n",
       "    </tr>\n",
       "  </tbody>\n",
       "</table>\n",
       "</div>"
      ],
      "text/plain": [
       "        sex         age month_of_birth special_month_of_birth      normal  \\\n",
       "count   395  395.000000            395                    395  395.000000   \n",
       "unique    2         NaN             12                     10         NaN   \n",
       "top       F         NaN            May                   July         NaN   \n",
       "freq    208         NaN             40                     52         NaN   \n",
       "mean    NaN   16.696203            NaN                    NaN  250.664730   \n",
       "std     NaN    1.276043            NaN                    NaN   38.558842   \n",
       "min     NaN   15.000000            NaN                    NaN  122.646818   \n",
       "20%     NaN   15.000000            NaN                    NaN  220.892664   \n",
       "40%     NaN   16.000000            NaN                    NaN  241.689434   \n",
       "50%     NaN   17.000000            NaN                    NaN  250.647926   \n",
       "60%     NaN   17.000000            NaN                    NaN  261.033590   \n",
       "75%     NaN   18.000000            NaN                    NaN  276.147340   \n",
       "80%     NaN   18.000000            NaN                    NaN  284.311464   \n",
       "max     NaN   22.000000            NaN                    NaN  340.819255   \n",
       "\n",
       "        weird_dist  \n",
       "count   395.000000  \n",
       "unique         NaN  \n",
       "top            NaN  \n",
       "freq           NaN  \n",
       "mean     46.693987  \n",
       "std     116.878449  \n",
       "min       0.000000  \n",
       "20%       4.379511  \n",
       "40%       5.066381  \n",
       "50%       5.288267  \n",
       "60%       5.469744  \n",
       "75%       5.692046  \n",
       "80%       5.756374  \n",
       "max     394.000000  "
      ]
     },
     "execution_count": 75,
     "metadata": {},
     "output_type": "execute_result"
    }
   ],
   "source": [
    "df.describe(percentiles=[.2,.4,.6,.75,.8],include='all')"
   ]
  },
  {
   "cell_type": "code",
   "execution_count": 78,
   "id": "133c6b9c",
   "metadata": {},
   "outputs": [
    {
     "data": {
      "text/plain": [
       "['May', 'May', 'May', 'June', 'August', ..., 'April', 'July', 'October', 'March', 'August']\n",
       "Length: 395\n",
       "Categories (12, object): ['April', 'August', 'December', 'February', ..., 'May', 'November', 'October', 'September']"
      ]
     },
     "execution_count": 78,
     "metadata": {},
     "output_type": "execute_result"
    }
   ],
   "source": [
    "pd.Categorical(df['month_of_birth'])"
   ]
  },
  {
   "cell_type": "code",
   "execution_count": 80,
   "id": "ac9031ce",
   "metadata": {},
   "outputs": [
    {
     "data": {
      "text/plain": [
       "['March', 'April', 'August', 'February', 'April', ..., 'June', 'October', 'February', 'January', 'February']\n",
       "Length: 395\n",
       "Categories (10, object): ['April', 'August', 'February', 'January', ..., 'March', 'May', 'October', 'September']"
      ]
     },
     "execution_count": 80,
     "metadata": {},
     "output_type": "execute_result"
    }
   ],
   "source": [
    "pd.Categorical(df['special_month_of_birth'])"
   ]
  },
  {
   "cell_type": "code",
   "execution_count": 84,
   "id": "c685bb1d",
   "metadata": {},
   "outputs": [],
   "source": [
    "df['special_month_of_birth'] = pd.Categorical(df['special_month_of_birth'], categories=list_of_months, ordered=True)\n",
    "df['month_of_birth'] = pd.Categorical(df['month_of_birth'], categories=list_of_months, ordered=True)"
   ]
  },
  {
   "cell_type": "code",
   "execution_count": 86,
   "id": "fe179ce1",
   "metadata": {},
   "outputs": [
    {
     "name": "stdout",
     "output_type": "stream",
     "text": [
      "<class 'pandas.core.frame.DataFrame'>\n",
      "RangeIndex: 395 entries, 0 to 394\n",
      "Data columns (total 6 columns):\n",
      " #   Column                  Non-Null Count  Dtype   \n",
      "---  ------                  --------------  -----   \n",
      " 0   sex                     395 non-null    object  \n",
      " 1   age                     395 non-null    int64   \n",
      " 2   month_of_birth          395 non-null    category\n",
      " 3   special_month_of_birth  395 non-null    category\n",
      " 4   normal                  395 non-null    float64 \n",
      " 5   weird_dist              395 non-null    float64 \n",
      "dtypes: category(2), float64(2), int64(1), object(1)\n",
      "memory usage: 14.0+ KB\n"
     ]
    }
   ],
   "source": [
    "df.info()"
   ]
  },
  {
   "cell_type": "code",
   "execution_count": 90,
   "id": "cdb0471e",
   "metadata": {},
   "outputs": [
    {
     "data": {
      "text/html": [
       "<div>\n",
       "<style scoped>\n",
       "    .dataframe tbody tr th:only-of-type {\n",
       "        vertical-align: middle;\n",
       "    }\n",
       "\n",
       "    .dataframe tbody tr th {\n",
       "        vertical-align: top;\n",
       "    }\n",
       "\n",
       "    .dataframe thead th {\n",
       "        text-align: right;\n",
       "    }\n",
       "</style>\n",
       "<table border=\"1\" class=\"dataframe\">\n",
       "  <thead>\n",
       "    <tr style=\"text-align: right;\">\n",
       "      <th></th>\n",
       "      <th>sex</th>\n",
       "      <th>age</th>\n",
       "      <th>month_of_birth</th>\n",
       "      <th>special_month_of_birth</th>\n",
       "      <th>normal</th>\n",
       "      <th>weird_dist</th>\n",
       "    </tr>\n",
       "  </thead>\n",
       "  <tbody>\n",
       "    <tr>\n",
       "      <th>197</th>\n",
       "      <td>M</td>\n",
       "      <td>16</td>\n",
       "      <td>December</td>\n",
       "      <td>April</td>\n",
       "      <td>220.263947</td>\n",
       "      <td>5.288267</td>\n",
       "    </tr>\n",
       "    <tr>\n",
       "      <th>282</th>\n",
       "      <td>F</td>\n",
       "      <td>18</td>\n",
       "      <td>December</td>\n",
       "      <td>September</td>\n",
       "      <td>333.751226</td>\n",
       "      <td>5.645447</td>\n",
       "    </tr>\n",
       "    <tr>\n",
       "      <th>356</th>\n",
       "      <td>F</td>\n",
       "      <td>17</td>\n",
       "      <td>December</td>\n",
       "      <td>March</td>\n",
       "      <td>223.253188</td>\n",
       "      <td>356.000000</td>\n",
       "    </tr>\n",
       "    <tr>\n",
       "      <th>26</th>\n",
       "      <td>M</td>\n",
       "      <td>15</td>\n",
       "      <td>December</td>\n",
       "      <td>July</td>\n",
       "      <td>223.628088</td>\n",
       "      <td>3.295837</td>\n",
       "    </tr>\n",
       "    <tr>\n",
       "      <th>159</th>\n",
       "      <td>M</td>\n",
       "      <td>16</td>\n",
       "      <td>December</td>\n",
       "      <td>February</td>\n",
       "      <td>300.093925</td>\n",
       "      <td>5.075174</td>\n",
       "    </tr>\n",
       "    <tr>\n",
       "      <th>...</th>\n",
       "      <td>...</td>\n",
       "      <td>...</td>\n",
       "      <td>...</td>\n",
       "      <td>...</td>\n",
       "      <td>...</td>\n",
       "      <td>...</td>\n",
       "    </tr>\n",
       "    <tr>\n",
       "      <th>241</th>\n",
       "      <td>M</td>\n",
       "      <td>17</td>\n",
       "      <td>January</td>\n",
       "      <td>May</td>\n",
       "      <td>233.628161</td>\n",
       "      <td>5.488938</td>\n",
       "    </tr>\n",
       "    <tr>\n",
       "      <th>162</th>\n",
       "      <td>M</td>\n",
       "      <td>16</td>\n",
       "      <td>January</td>\n",
       "      <td>February</td>\n",
       "      <td>271.083160</td>\n",
       "      <td>5.093750</td>\n",
       "    </tr>\n",
       "    <tr>\n",
       "      <th>262</th>\n",
       "      <td>M</td>\n",
       "      <td>18</td>\n",
       "      <td>January</td>\n",
       "      <td>July</td>\n",
       "      <td>296.201760</td>\n",
       "      <td>5.572154</td>\n",
       "    </tr>\n",
       "    <tr>\n",
       "      <th>275</th>\n",
       "      <td>F</td>\n",
       "      <td>17</td>\n",
       "      <td>January</td>\n",
       "      <td>October</td>\n",
       "      <td>281.283871</td>\n",
       "      <td>5.620401</td>\n",
       "    </tr>\n",
       "    <tr>\n",
       "      <th>9</th>\n",
       "      <td>M</td>\n",
       "      <td>15</td>\n",
       "      <td>January</td>\n",
       "      <td>October</td>\n",
       "      <td>259.033864</td>\n",
       "      <td>2.302585</td>\n",
       "    </tr>\n",
       "  </tbody>\n",
       "</table>\n",
       "<p>395 rows × 6 columns</p>\n",
       "</div>"
      ],
      "text/plain": [
       "    sex  age month_of_birth special_month_of_birth      normal  weird_dist\n",
       "197   M   16       December                  April  220.263947    5.288267\n",
       "282   F   18       December              September  333.751226    5.645447\n",
       "356   F   17       December                  March  223.253188  356.000000\n",
       "26    M   15       December                   July  223.628088    3.295837\n",
       "159   M   16       December               February  300.093925    5.075174\n",
       "..   ..  ...            ...                    ...         ...         ...\n",
       "241   M   17        January                    May  233.628161    5.488938\n",
       "162   M   16        January               February  271.083160    5.093750\n",
       "262   M   18        January                   July  296.201760    5.572154\n",
       "275   F   17        January                October  281.283871    5.620401\n",
       "9     M   15        January                October  259.033864    2.302585\n",
       "\n",
       "[395 rows x 6 columns]"
      ]
     },
     "execution_count": 90,
     "metadata": {},
     "output_type": "execute_result"
    }
   ],
   "source": [
    "df.sort_values('sex', ascending=False)\n",
    "df.sort_values('month_of_birth', ascending=False)"
   ]
  },
  {
   "cell_type": "markdown",
   "id": "a5e67560",
   "metadata": {},
   "source": [
    "## Practice -\n",
    "### Easier\n",
    "Make Gender categorical, is there an order to that?<br>\n",
    "Add another value to the categories saying \"Non-binary\" or just \"Prefer not to say\"\n",
    "### Harder\n",
    "Make Age categorical, is there an order to that?<br>\n",
    "Add another value to the categories saying \"Prefer not to say\""
   ]
  },
  {
   "cell_type": "code",
   "execution_count": 96,
   "id": "e6c41a15",
   "metadata": {},
   "outputs": [],
   "source": [
    "df['sex'] = pd.Categorical(df['sex'], categories=[\"F\", \"M\",\"NB\"])"
   ]
  },
  {
   "cell_type": "code",
   "execution_count": 103,
   "id": "4e019ff5",
   "metadata": {},
   "outputs": [
    {
     "data": {
      "text/plain": [
       "F     0.526582\n",
       "M     0.473418\n",
       "NB    0.000000\n",
       "Name: sex, dtype: float64"
      ]
     },
     "execution_count": 103,
     "metadata": {},
     "output_type": "execute_result"
    }
   ],
   "source": [
    "df['sex'].value_counts(normalize=True)"
   ]
  },
  {
   "cell_type": "code",
   "execution_count": 104,
   "id": "3f07d592",
   "metadata": {},
   "outputs": [
    {
     "data": {
      "text/plain": [
       "F     0.526582\n",
       "M     0.473418\n",
       "NB    0.000000\n",
       "Name: sex, dtype: float64"
      ]
     },
     "execution_count": 104,
     "metadata": {},
     "output_type": "execute_result"
    }
   ],
   "source": [
    "df['sex'].value_counts()/len(df)"
   ]
  },
  {
   "cell_type": "code",
   "execution_count": 132,
   "id": "1f46acbb",
   "metadata": {},
   "outputs": [
    {
     "data": {
      "text/plain": [
       "age    16.513514\n",
       "Name: April, dtype: float64"
      ]
     },
     "execution_count": 132,
     "metadata": {},
     "output_type": "execute_result"
    }
   ],
   "source": [
    "df.groupby('special_month_of_birth')['age'].mean().to_frame().iloc[3]"
   ]
  },
  {
   "cell_type": "code",
   "execution_count": 135,
   "id": "4f9b00f4",
   "metadata": {},
   "outputs": [
    {
     "data": {
      "text/plain": [
       "age    16.7\n",
       "Name: May, dtype: float64"
      ]
     },
     "execution_count": 135,
     "metadata": {},
     "output_type": "execute_result"
    }
   ],
   "source": [
    "df.groupby('special_month_of_birth')['age'].mean().to_frame().loc['May']"
   ]
  },
  {
   "cell_type": "code",
   "execution_count": 108,
   "id": "e407ea21",
   "metadata": {},
   "outputs": [
    {
     "data": {
      "text/plain": [
       "F    208\n",
       "Name: sex, dtype: int64"
      ]
     },
     "execution_count": 108,
     "metadata": {},
     "output_type": "execute_result"
    }
   ],
   "source": [
    "df['sex'].value_counts().head(1)"
   ]
  },
  {
   "cell_type": "code",
   "execution_count": 115,
   "id": "f26800c5",
   "metadata": {},
   "outputs": [
    {
     "name": "stdout",
     "output_type": "stream",
     "text": [
      "250.66473040805215\n",
      "250.6479263616548\n"
     ]
    }
   ],
   "source": [
    "print(df['normal'].mean())\n",
    "print(df['normal'].median())\n",
    "\n",
    "\n"
   ]
  },
  {
   "cell_type": "code",
   "execution_count": 126,
   "id": "b794a264",
   "metadata": {},
   "outputs": [
    {
     "data": {
      "text/plain": [
       "sex                                F\n",
       "age                               15\n",
       "month_of_birth                  June\n",
       "special_month_of_birth      February\n",
       "normal                    220.737958\n",
       "weird_dist                  1.386294\n",
       "Name: 3, dtype: object"
      ]
     },
     "execution_count": 126,
     "metadata": {},
     "output_type": "execute_result"
    }
   ],
   "source": [
    "df.loc[3]"
   ]
  },
  {
   "cell_type": "code",
   "execution_count": 140,
   "id": "2d4a125b",
   "metadata": {},
   "outputs": [
    {
     "data": {
      "text/plain": [
       "<matplotlib.legend.Legend at 0x1a999de79d0>"
      ]
     },
     "execution_count": 140,
     "metadata": {},
     "output_type": "execute_result"
    },
    {
     "data": {
      "image/png": "[encoded data removed]",
      "text/plain": [
       "<Figure size 1080x288 with 1 Axes>"
      ]
     },
     "metadata": {
      "needs_background": "light"
     },
     "output_type": "display_data"
    }
   ],
   "source": [
    "plt.figure(figsize=(15,4))\n",
    "\n",
    "df['normal'].plot(kind=\"kde\")\n",
    "\n",
    "plt.axvline(df['normal'].mean(), color= \"g\", label=\"Mean\")\n",
    "plt.axvline(df['normal'].median(), c= \"purple\", label=\"Median\")\n",
    "\n",
    "plt.axvspan(xmin=df['normal'].mean()-3*df['normal'].std(),xmax=df['normal'].mean()+3*df['normal'].std(),alpha=0.075,color=\"y\" )\n",
    "plt.axvspan(xmin=df['normal'].mean()-2*df['normal'].std(), xmax=df['normal'].mean()+2*df['normal'].std(), alpha=0.15, color=\"y\" )\n",
    "plt.axvspan(xmin=df['normal'].mean()-df['normal'].std(), xmax=df['normal'].mean()+df['normal'].std(), alpha=0.8, color=\"pink\" )\n",
    "\n",
    "plt.legend()\n"
   ]
  },
  {
   "cell_type": "code",
   "execution_count": 141,
   "id": "8c3b5372",
   "metadata": {},
   "outputs": [],
   "source": [
    "df['new_normal'] = [int(x) for x in np.random.normal(480,80,size=len(df))]\n"
   ]
  },
  {
   "cell_type": "code",
   "execution_count": 144,
   "id": "2e146d97",
   "metadata": {},
   "outputs": [
    {
     "name": "stdout",
     "output_type": "stream",
     "text": [
      "46.6939867019616\n",
      "5.288267030694535\n"
     ]
    }
   ],
   "source": [
    "print(df['weird_dist'].mean())\n",
    "print(df['weird_dist'].median())"
   ]
  },
  {
   "cell_type": "code",
   "execution_count": 145,
   "id": "9151e8ef",
   "metadata": {},
   "outputs": [
    {
     "data": {
      "text/plain": [
       "0        0.000000\n",
       "1        0.693147\n",
       "2        1.098612\n",
       "3        1.386294\n",
       "4        1.609438\n",
       "          ...    \n",
       "390    390.000000\n",
       "391    391.000000\n",
       "392    392.000000\n",
       "393    393.000000\n",
       "394    394.000000\n",
       "Name: weird_dist, Length: 395, dtype: float64"
      ]
     },
     "execution_count": 145,
     "metadata": {},
     "output_type": "execute_result"
    }
   ],
   "source": [
    "df['weird_dist'].mode()"
   ]
  },
  {
   "cell_type": "code",
   "execution_count": 148,
   "id": "9401bba5",
   "metadata": {},
   "outputs": [
    {
     "data": {
      "text/plain": [
       "<matplotlib.lines.Line2D at 0x1a99a4151c0>"
      ]
     },
     "execution_count": 148,
     "metadata": {},
     "output_type": "execute_result"
    },
    {
     "data": {
      "image/png": "[encoded data removed]",
      "text/plain": [
       "<Figure size 432x288 with 1 Axes>"
      ]
     },
     "metadata": {
      "needs_background": "light"
     },
     "output_type": "display_data"
    }
   ],
   "source": [
    "df['weird_dist'].plot(kind=\"kde\")\n",
    "plt.axvline(df['weird_dist'].mean(), c= \"g\", label=\"Mean\")\n",
    "plt.axvline(df['weird_dist'].median(), c= \"b\", label=\"Median\")"
   ]
  },
  {
   "cell_type": "code",
   "execution_count": 149,
   "id": "23037a15",
   "metadata": {},
   "outputs": [
    {
     "data": {
      "text/plain": [
       "<AxesSubplot:ylabel='Frequency'>"
      ]
     },
     "execution_count": 149,
     "metadata": {},
     "output_type": "execute_result"
    },
    {
     "data": {
      "image/png": "[encoded data removed]",
      "text/plain": [
       "<Figure size 432x288 with 1 Axes>"
      ]
     },
     "metadata": {
      "needs_background": "light"
     },
     "output_type": "display_data"
    }
   ],
   "source": [
    "df['weird_dist'].plot(kind=\"hist\")"
   ]
  },
  {
   "cell_type": "code",
   "execution_count": 152,
   "id": "155022ff",
   "metadata": {},
   "outputs": [
    {
     "data": {
      "text/plain": [
       "122.64681848935024"
      ]
     },
     "execution_count": 152,
     "metadata": {},
     "output_type": "execute_result"
    }
   ],
   "source": [
    "df['normal'].min()"
   ]
  },
  {
   "cell_type": "code",
   "execution_count": 151,
   "id": "b71eb788",
   "metadata": {},
   "outputs": [
    {
     "data": {
      "text/plain": [
       "(134.98820492498265, 366.34125589112165)"
      ]
     },
     "execution_count": 151,
     "metadata": {},
     "output_type": "execute_result"
    }
   ],
   "source": [
    "df['normal'].mean()-3*df['normal'].std(), df['normal'].mean()+3*df['normal'].std()"
   ]
  },
  {
   "cell_type": "code",
   "execution_count": 154,
   "id": "7f4787b4",
   "metadata": {},
   "outputs": [
    {
     "data": {
      "text/plain": [
       "340.81925480299736"
      ]
     },
     "execution_count": 154,
     "metadata": {},
     "output_type": "execute_result"
    }
   ],
   "source": [
    "df['normal'].max()"
   ]
  },
  {
   "cell_type": "markdown",
   "id": "e2f3bb6f",
   "metadata": {},
   "source": [
    "## Practice\n",
    "plot new_weird_dist\n",
    "\n",
    "df['new_weird_dist'] = [int(x) for x in np.random.chisquare(1, len(df))]"
   ]
  }
 ],
 "metadata": {
  "kernelspec": {
   "display_name": "Python 3 (ipykernel)",
   "language": "python",
   "name": "python3"
  },
  "language_info": {
   "codemirror_mode": {
    "name": "ipython",
    "version": 3
   },
   "file_extension": ".py",
   "mimetype": "text/x-python",
   "name": "python",
   "nbconvert_exporter": "python",
   "pygments_lexer": "ipython3",
   "version": "3.9.12"
  }
 },
 "nbformat": 4,
 "nbformat_minor": 5
}
